{
 "cells": [
  {
   "cell_type": "code",
   "execution_count": null,
   "id": "06160296",
   "metadata": {},
   "outputs": [],
   "source": [
    "Python Final Project - Behind-The-Door Break Room Cafe"
   ]
  },
  {
   "cell_type": "markdown",
   "id": "81d11c14",
   "metadata": {},
   "source": [
    "This program allows users to place orders at the Behind-The-Door Break Room Cafe and calculate the total cost, including sales tax based on the user's state.\n",
    "\n",
    "Upon running, the program creates a dictionary named 'menu', which contains six available food items for ordering. Each of these items has a corresponding name, price, quantity, and whether or not they are taxable.\n",
    "\n",
    "When prompted for ordering, the user can enter as many items as they want until they choose to stop by typing \"no\". The program then stores the quantity of each item ordered in the quantity property of the dictionary.\n",
    "\n",
    "Additionally, the program prompts the user to enter their state, which is used to calculate the sales tax on each taxable item ordered. After the sales tax has been calculated, the program computes both the subtotal (i.e., sum of each item's cost) and the total (i.e., the subtotal plus the sales tax)."
   ]
  },
  {
   "cell_type": "code",
   "execution_count": 24,
   "id": "e433ed0e",
   "metadata": {},
   "outputs": [
    {
     "name": "stdout",
     "output_type": "stream",
     "text": [
      "What product would you like to order? (Enter 'no' to stop) Sandwich\n",
      "How many would you like? 2\n",
      "What product would you like to order? (Enter 'no' to stop) Fruit Cup\n",
      "How many would you like? 1\n",
      "What product would you like to order? (Enter 'no' to stop) Water\n",
      "How many would you like? 1\n",
      "What product would you like to order? (Enter 'no' to stop) no\n",
      "\n",
      "Enter your state code (MD, DC, VA or Other): DC\n",
      "\n",
      "-----------------------------------------------\n",
      "ITEM\t\tQUANTITY\tPRICE\n",
      "-----------------------------------------------\n",
      "Sandwich      \t\t2\t$6.99\n",
      "Fruit Cup     \t\t1\t$3.99\n",
      "Water         \t\t1\t$0.99\n",
      "-----------------------------------------------\n",
      "Subtotal:\t\t\t$18.96\n",
      "Sales Tax (5.03%): \t\t$1.00\n",
      "Total:\t\t\t\t$19.96\n",
      "-----------------------------------------------\n"
     ]
    }
   ],
   "source": [
    "# create a dictionary with 6 food items\n",
    "menu = {\n",
    "    \"Pizza\": {\n",
    "        \"price\": 10.99,\n",
    "        \"quantity\": 0,\n",
    "        \"taxable\": True\n",
    "    },\n",
    "    \"Salad\": {\n",
    "        \"price\": 8.99,\n",
    "        \"quantity\": 0,\n",
    "        \"taxable\": True\n",
    "    },\n",
    "    \"Sandwich\": {\n",
    "        \"price\": 6.99,\n",
    "        \"quantity\": 0,\n",
    "        \"taxable\": True\n",
    "    },\n",
    "    \"Fruit Cup\": {\n",
    "        \"price\": 3.99,\n",
    "        \"quantity\": 0,\n",
    "        \"taxable\": True\n",
    "    },\n",
    "    \"Soda\": {\n",
    "        \"price\": 1.99,\n",
    "        \"quantity\": 0,\n",
    "        \"taxable\": True\n",
    "    },\n",
    "    \"Water\": {\n",
    "        \"price\": 0.99,\n",
    "        \"quantity\": 0,\n",
    "        \"taxable\": True\n",
    "    }\n",
    "}\n",
    "\n",
    "# loop for take orders from the menu\n",
    "while True:\n",
    "    user_input = input(\"What product would you like to order? (Enter 'no' to stop) \")\n",
    "    if user_input == \"no\":\n",
    "        break\n",
    "    elif user_input in menu:\n",
    "        quantity = int(input(\"How many would you like? \"))\n",
    "        menu[user_input][\"quantity\"] += quantity\n",
    "\n",
    "# initialize subtotal and sales tax\n",
    "subtotal = 0\n",
    "sales_tax = 0\n",
    "\n",
    "# define sales tax rates by state\n",
    "tax_r = {\"MD\": 0.06, \"DC\": 0.053, \"VA\": 0.0575, \"Other\": 0.05}\n",
    "\n",
    "# prompt the user for their state to calculate sales tax\n",
    "state = input(\"\\nEnter your state code (MD, DC, VA or Other): \")\n",
    "if state not in tax_r:\n",
    "    print(\"Invalid state code!\")\n",
    "else:\n",
    "    sales_tax = sum([menu[item][\"price\"]*menu[item][\"quantity\"]*tax_r[state] for item in menu if menu[item][\"taxable\"]])\n",
    "\n",
    "# calculate subtotal and total\n",
    "subtotal = sum([menu[item][\"price\"]*menu[item][\"quantity\"] for item in menu])\n",
    "total = subtotal + sales_tax\n",
    "\n",
    "# print invoice\n",
    "print(\"\\n-----------------------------------------------\")\n",
    "print(\"ITEM\\t\\tQUANTITY\\tPRICE\")\n",
    "print(\"-----------------------------------------------\")\n",
    "for item in menu:\n",
    "    if menu[item][\"quantity\"] > 0:\n",
    "        print(\"{}\\t\\t{}\\t${:.2f}\".format(item.ljust(14), menu[item][\"quantity\"], menu[item][\"price\"]))\n",
    "print(\"-----------------------------------------------\")\n",
    "print(\"Subtotal:\\t\\t\\t${:.2f}\".format(subtotal))\n",
    "print(\"Sales Tax ({:.2%}):\".format(sales_tax/total), \"\\t\\t${:.2f}\".format(sales_tax))\n",
    "print(\"Total:\\t\\t\\t\\t${:.2f}\".format(total))\n",
    "print(\"-----------------------------------------------\")"
   ]
  },
  {
   "cell_type": "code",
   "execution_count": null,
   "id": "a77a0899",
   "metadata": {},
   "outputs": [],
   "source": []
  }
 ],
 "metadata": {
  "kernelspec": {
   "display_name": "Python 3 (ipykernel)",
   "language": "python",
   "name": "python3"
  },
  "language_info": {
   "codemirror_mode": {
    "name": "ipython",
    "version": 3
   },
   "file_extension": ".py",
   "mimetype": "text/x-python",
   "name": "python",
   "nbconvert_exporter": "python",
   "pygments_lexer": "ipython3",
   "version": "3.10.9"
  }
 },
 "nbformat": 4,
 "nbformat_minor": 5
}
